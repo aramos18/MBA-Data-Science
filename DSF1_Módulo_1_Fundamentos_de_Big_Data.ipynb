{
  "nbformat": 4,
  "nbformat_minor": 0,
  "metadata": {
    "colab": {
      "provenance": [],
      "authorship_tag": "ABX9TyPk3/dHZIxjWik3WSUaLC9b",
      "include_colab_link": true
    },
    "kernelspec": {
      "name": "python3",
      "display_name": "Python 3"
    },
    "language_info": {
      "name": "python"
    }
  },
  "cells": [
    {
      "cell_type": "markdown",
      "metadata": {
        "id": "view-in-github",
        "colab_type": "text"
      },
      "source": [
        "<a href=\"https://colab.research.google.com/github/aramos18/MBA-Data-Science/blob/main/DSF1_M%C3%B3dulo_1_Fundamentos_de_Big_Data.ipynb\" target=\"_parent\"><img src=\"https://colab.research.google.com/assets/colab-badge.svg\" alt=\"Open In Colab\"/></a>"
      ]
    },
    {
      "cell_type": "code",
      "execution_count": 2,
      "metadata": {
        "id": "HvjOO3lhxEVJ"
      },
      "outputs": [],
      "source": [
        "import pandas as pd\n",
        "import matplotlib.pyplot as plt\n",
        "from sklearn.cluster import KMeans\n",
        "import plotly.express as px"
      ]
    },
    {
      "cell_type": "code",
      "source": [
        "# Etapa 1: Coletar e inserir os arquivos\n",
        "# Supondo que os arquivos foram carregados na plataforma, faremos a leitura deles\n",
        "df_clientes = pd.read_excel('dados_clientes.xlsx')\n",
        "df_estados = pd.read_csv('estados_brasileiros.csv',sep=';',decimal=',', encoding='latin-1')\n",
        "df_idade = pd.read_csv('idade_clientes.csv',sep=';',decimal=',', encoding='latin-1')"
      ],
      "metadata": {
        "id": "wWSbG9lbF94z"
      },
      "execution_count": 9,
      "outputs": []
    },
    {
      "cell_type": "code",
      "source": [
        "# Etapa 2: Análise dos dados coletados\n",
        "# Vamos visualizar algumas informações dos DataFrames\n",
        "print(\"Dados dos Clientes:\")\n",
        "print(df_clientes.head())"
      ],
      "metadata": {
        "colab": {
          "base_uri": "https://localhost:8080/"
        },
        "id": "a5V09G6uQJvs",
        "outputId": "076ffdf4-0e23-4645-d8a6-854b8d476c0e"
      },
      "execution_count": 10,
      "outputs": [
        {
          "output_type": "stream",
          "name": "stdout",
          "text": [
            "Dados dos Clientes:\n",
            "   id_cliente   peso  colesterol     genero  id_estado\n",
            "0           1  102.0         111  Masculino         23\n",
            "1           2  115.0         135  Masculino          7\n",
            "2           3  115.0         136  Masculino          4\n",
            "3           4  140.0         167   Feminino         24\n",
            "4           5  130.0         158  Masculino         26\n"
          ]
        }
      ]
    },
    {
      "cell_type": "code",
      "source": [
        "print(\"\\nEstados Brasileiros:\")\n",
        "print(df_estados.head())"
      ],
      "metadata": {
        "colab": {
          "base_uri": "https://localhost:8080/"
        },
        "id": "1_jSnyX-QL7u",
        "outputId": "528aff76-42be-4e32-b415-52d48be2ffe2"
      },
      "execution_count": 11,
      "outputs": [
        {
          "output_type": "stream",
          "name": "stdout",
          "text": [
            "\n",
            "Estados Brasileiros:\n",
            "   id_estado    estado sigla_estado    pais\n",
            "0          1      Acre           ac  Brasil\n",
            "1          2   Alagoas           al  Brasil\n",
            "2          3     Amapá           ap  Brasil\n",
            "3          4  Amazonas           am  Brasil\n",
            "4          5     Bahia           ba  Brasil\n"
          ]
        }
      ]
    },
    {
      "cell_type": "code",
      "source": [
        "print(\"\\nIdade dos Clientes:\")\n",
        "print(df_idade.head())"
      ],
      "metadata": {
        "colab": {
          "base_uri": "https://localhost:8080/"
        },
        "id": "BS96_2umQOn4",
        "outputId": "8703cada-ec3f-4f42-b6d2-b0854275d720"
      },
      "execution_count": 12,
      "outputs": [
        {
          "output_type": "stream",
          "name": "stdout",
          "text": [
            "\n",
            "Idade dos Clientes:\n",
            "   id_cliente  idade\n",
            "0           1     17\n",
            "1           2     28\n",
            "2           3     62\n",
            "3           4     55\n",
            "4           5     44\n"
          ]
        }
      ]
    },
    {
      "cell_type": "code",
      "source": [
        "# Etapa 3: Avaliar a correlação entre as variáveis\n",
        "#Agrega os dataframes com base no id_estado\n",
        "df_completo = pd.merge(df_clientes, df_estados, on='id_estado').sort_values(by='id_cliente')\n"
      ],
      "metadata": {
        "id": "TKlQaH6GQSkd"
      },
      "execution_count": 14,
      "outputs": []
    },
    {
      "cell_type": "code",
      "source": [
        "# Agrega os dataframes com base no id_cliente\n",
        "df_completo = pd.merge(df_completo, df_idade, on='id_cliente').sort_values(by='id_cliente')"
      ],
      "metadata": {
        "id": "KZ1A8gzJFBzk"
      },
      "execution_count": 15,
      "outputs": []
    },
    {
      "cell_type": "code",
      "source": [
        "# Coloca a sigla dos estados em uppercase\n",
        "df_completo['sigla_estado'] = df_completo['sigla_estado'].str.upper()"
      ],
      "metadata": {
        "id": "8I0xzIRXFGLi"
      },
      "execution_count": 16,
      "outputs": []
    },
    {
      "cell_type": "code",
      "source": [
        "# 2. Analisar os dados coletados.\n",
        "# Exibe as primeiras linhas\n",
        "df_completo.head()"
      ],
      "metadata": {
        "colab": {
          "base_uri": "https://localhost:8080/",
          "height": 206
        },
        "id": "_z67rB0OFY5m",
        "outputId": "746d1225-2f5e-4bd7-f474-17317a3bc92c"
      },
      "execution_count": 17,
      "outputs": [
        {
          "output_type": "execute_result",
          "data": {
            "text/plain": [
              "   id_cliente   peso  colesterol     genero  id_estado            estado  \\\n",
              "0           1  102.0         111  Masculino         23           Roraima   \n",
              "1           2  115.0         135  Masculino          7  Distrito Federal   \n",
              "2           3  115.0         136  Masculino          4          Amazonas   \n",
              "3           4  140.0         167   Feminino         24    Santa Catarina   \n",
              "4           5  130.0         158  Masculino         26           Sergipe   \n",
              "\n",
              "  sigla_estado    pais  idade  \n",
              "0           RR  Brasil     17  \n",
              "1           DF  Brasil     28  \n",
              "2           AM  Brasil     62  \n",
              "3           SC     NaN     55  \n",
              "4           SE  Brasil     44  "
            ],
            "text/html": [
              "\n",
              "\n",
              "  <div id=\"df-586a3470-c9f2-4870-9fa8-fa258418f8f0\">\n",
              "    <div class=\"colab-df-container\">\n",
              "      <div>\n",
              "<style scoped>\n",
              "    .dataframe tbody tr th:only-of-type {\n",
              "        vertical-align: middle;\n",
              "    }\n",
              "\n",
              "    .dataframe tbody tr th {\n",
              "        vertical-align: top;\n",
              "    }\n",
              "\n",
              "    .dataframe thead th {\n",
              "        text-align: right;\n",
              "    }\n",
              "</style>\n",
              "<table border=\"1\" class=\"dataframe\">\n",
              "  <thead>\n",
              "    <tr style=\"text-align: right;\">\n",
              "      <th></th>\n",
              "      <th>id_cliente</th>\n",
              "      <th>peso</th>\n",
              "      <th>colesterol</th>\n",
              "      <th>genero</th>\n",
              "      <th>id_estado</th>\n",
              "      <th>estado</th>\n",
              "      <th>sigla_estado</th>\n",
              "      <th>pais</th>\n",
              "      <th>idade</th>\n",
              "    </tr>\n",
              "  </thead>\n",
              "  <tbody>\n",
              "    <tr>\n",
              "      <th>0</th>\n",
              "      <td>1</td>\n",
              "      <td>102.0</td>\n",
              "      <td>111</td>\n",
              "      <td>Masculino</td>\n",
              "      <td>23</td>\n",
              "      <td>Roraima</td>\n",
              "      <td>RR</td>\n",
              "      <td>Brasil</td>\n",
              "      <td>17</td>\n",
              "    </tr>\n",
              "    <tr>\n",
              "      <th>1</th>\n",
              "      <td>2</td>\n",
              "      <td>115.0</td>\n",
              "      <td>135</td>\n",
              "      <td>Masculino</td>\n",
              "      <td>7</td>\n",
              "      <td>Distrito Federal</td>\n",
              "      <td>DF</td>\n",
              "      <td>Brasil</td>\n",
              "      <td>28</td>\n",
              "    </tr>\n",
              "    <tr>\n",
              "      <th>2</th>\n",
              "      <td>3</td>\n",
              "      <td>115.0</td>\n",
              "      <td>136</td>\n",
              "      <td>Masculino</td>\n",
              "      <td>4</td>\n",
              "      <td>Amazonas</td>\n",
              "      <td>AM</td>\n",
              "      <td>Brasil</td>\n",
              "      <td>62</td>\n",
              "    </tr>\n",
              "    <tr>\n",
              "      <th>3</th>\n",
              "      <td>4</td>\n",
              "      <td>140.0</td>\n",
              "      <td>167</td>\n",
              "      <td>Feminino</td>\n",
              "      <td>24</td>\n",
              "      <td>Santa Catarina</td>\n",
              "      <td>SC</td>\n",
              "      <td>NaN</td>\n",
              "      <td>55</td>\n",
              "    </tr>\n",
              "    <tr>\n",
              "      <th>4</th>\n",
              "      <td>5</td>\n",
              "      <td>130.0</td>\n",
              "      <td>158</td>\n",
              "      <td>Masculino</td>\n",
              "      <td>26</td>\n",
              "      <td>Sergipe</td>\n",
              "      <td>SE</td>\n",
              "      <td>Brasil</td>\n",
              "      <td>44</td>\n",
              "    </tr>\n",
              "  </tbody>\n",
              "</table>\n",
              "</div>\n",
              "      <button class=\"colab-df-convert\" onclick=\"convertToInteractive('df-586a3470-c9f2-4870-9fa8-fa258418f8f0')\"\n",
              "              title=\"Convert this dataframe to an interactive table.\"\n",
              "              style=\"display:none;\">\n",
              "\n",
              "  <svg xmlns=\"http://www.w3.org/2000/svg\" height=\"24px\"viewBox=\"0 0 24 24\"\n",
              "       width=\"24px\">\n",
              "    <path d=\"M0 0h24v24H0V0z\" fill=\"none\"/>\n",
              "    <path d=\"M18.56 5.44l.94 2.06.94-2.06 2.06-.94-2.06-.94-.94-2.06-.94 2.06-2.06.94zm-11 1L8.5 8.5l.94-2.06 2.06-.94-2.06-.94L8.5 2.5l-.94 2.06-2.06.94zm10 10l.94 2.06.94-2.06 2.06-.94-2.06-.94-.94-2.06-.94 2.06-2.06.94z\"/><path d=\"M17.41 7.96l-1.37-1.37c-.4-.4-.92-.59-1.43-.59-.52 0-1.04.2-1.43.59L10.3 9.45l-7.72 7.72c-.78.78-.78 2.05 0 2.83L4 21.41c.39.39.9.59 1.41.59.51 0 1.02-.2 1.41-.59l7.78-7.78 2.81-2.81c.8-.78.8-2.07 0-2.86zM5.41 20L4 18.59l7.72-7.72 1.47 1.35L5.41 20z\"/>\n",
              "  </svg>\n",
              "      </button>\n",
              "\n",
              "\n",
              "\n",
              "    <div id=\"df-0d09f8f4-d183-4c34-a43c-ea43c0a99ea6\">\n",
              "      <button class=\"colab-df-quickchart\" onclick=\"quickchart('df-0d09f8f4-d183-4c34-a43c-ea43c0a99ea6')\"\n",
              "              title=\"Suggest charts.\"\n",
              "              style=\"display:none;\">\n",
              "\n",
              "<svg xmlns=\"http://www.w3.org/2000/svg\" height=\"24px\"viewBox=\"0 0 24 24\"\n",
              "     width=\"24px\">\n",
              "    <g>\n",
              "        <path d=\"M19 3H5c-1.1 0-2 .9-2 2v14c0 1.1.9 2 2 2h14c1.1 0 2-.9 2-2V5c0-1.1-.9-2-2-2zM9 17H7v-7h2v7zm4 0h-2V7h2v10zm4 0h-2v-4h2v4z\"/>\n",
              "    </g>\n",
              "</svg>\n",
              "      </button>\n",
              "    </div>\n",
              "\n",
              "<style>\n",
              "  .colab-df-quickchart {\n",
              "    background-color: #E8F0FE;\n",
              "    border: none;\n",
              "    border-radius: 50%;\n",
              "    cursor: pointer;\n",
              "    display: none;\n",
              "    fill: #1967D2;\n",
              "    height: 32px;\n",
              "    padding: 0 0 0 0;\n",
              "    width: 32px;\n",
              "  }\n",
              "\n",
              "  .colab-df-quickchart:hover {\n",
              "    background-color: #E2EBFA;\n",
              "    box-shadow: 0px 1px 2px rgba(60, 64, 67, 0.3), 0px 1px 3px 1px rgba(60, 64, 67, 0.15);\n",
              "    fill: #174EA6;\n",
              "  }\n",
              "\n",
              "  [theme=dark] .colab-df-quickchart {\n",
              "    background-color: #3B4455;\n",
              "    fill: #D2E3FC;\n",
              "  }\n",
              "\n",
              "  [theme=dark] .colab-df-quickchart:hover {\n",
              "    background-color: #434B5C;\n",
              "    box-shadow: 0px 1px 3px 1px rgba(0, 0, 0, 0.15);\n",
              "    filter: drop-shadow(0px 1px 2px rgba(0, 0, 0, 0.3));\n",
              "    fill: #FFFFFF;\n",
              "  }\n",
              "</style>\n",
              "\n",
              "    <script>\n",
              "      async function quickchart(key) {\n",
              "        const containerElement = document.querySelector('#' + key);\n",
              "        const charts = await google.colab.kernel.invokeFunction(\n",
              "            'suggestCharts', [key], {});\n",
              "      }\n",
              "    </script>\n",
              "\n",
              "      <script>\n",
              "\n",
              "function displayQuickchartButton(domScope) {\n",
              "  let quickchartButtonEl =\n",
              "    domScope.querySelector('#df-0d09f8f4-d183-4c34-a43c-ea43c0a99ea6 button.colab-df-quickchart');\n",
              "  quickchartButtonEl.style.display =\n",
              "    google.colab.kernel.accessAllowed ? 'block' : 'none';\n",
              "}\n",
              "\n",
              "        displayQuickchartButton(document);\n",
              "      </script>\n",
              "      <style>\n",
              "    .colab-df-container {\n",
              "      display:flex;\n",
              "      flex-wrap:wrap;\n",
              "      gap: 12px;\n",
              "    }\n",
              "\n",
              "    .colab-df-convert {\n",
              "      background-color: #E8F0FE;\n",
              "      border: none;\n",
              "      border-radius: 50%;\n",
              "      cursor: pointer;\n",
              "      display: none;\n",
              "      fill: #1967D2;\n",
              "      height: 32px;\n",
              "      padding: 0 0 0 0;\n",
              "      width: 32px;\n",
              "    }\n",
              "\n",
              "    .colab-df-convert:hover {\n",
              "      background-color: #E2EBFA;\n",
              "      box-shadow: 0px 1px 2px rgba(60, 64, 67, 0.3), 0px 1px 3px 1px rgba(60, 64, 67, 0.15);\n",
              "      fill: #174EA6;\n",
              "    }\n",
              "\n",
              "    [theme=dark] .colab-df-convert {\n",
              "      background-color: #3B4455;\n",
              "      fill: #D2E3FC;\n",
              "    }\n",
              "\n",
              "    [theme=dark] .colab-df-convert:hover {\n",
              "      background-color: #434B5C;\n",
              "      box-shadow: 0px 1px 3px 1px rgba(0, 0, 0, 0.15);\n",
              "      filter: drop-shadow(0px 1px 2px rgba(0, 0, 0, 0.3));\n",
              "      fill: #FFFFFF;\n",
              "    }\n",
              "  </style>\n",
              "\n",
              "      <script>\n",
              "        const buttonEl =\n",
              "          document.querySelector('#df-586a3470-c9f2-4870-9fa8-fa258418f8f0 button.colab-df-convert');\n",
              "        buttonEl.style.display =\n",
              "          google.colab.kernel.accessAllowed ? 'block' : 'none';\n",
              "\n",
              "        async function convertToInteractive(key) {\n",
              "          const element = document.querySelector('#df-586a3470-c9f2-4870-9fa8-fa258418f8f0');\n",
              "          const dataTable =\n",
              "            await google.colab.kernel.invokeFunction('convertToInteractive',\n",
              "                                                     [key], {});\n",
              "          if (!dataTable) return;\n",
              "\n",
              "          const docLinkHtml = 'Like what you see? Visit the ' +\n",
              "            '<a target=\"_blank\" href=https://colab.research.google.com/notebooks/data_table.ipynb>data table notebook</a>'\n",
              "            + ' to learn more about interactive tables.';\n",
              "          element.innerHTML = '';\n",
              "          dataTable['output_type'] = 'display_data';\n",
              "          await google.colab.output.renderOutput(dataTable, element);\n",
              "          const docLink = document.createElement('div');\n",
              "          docLink.innerHTML = docLinkHtml;\n",
              "          element.appendChild(docLink);\n",
              "        }\n",
              "      </script>\n",
              "    </div>\n",
              "  </div>\n"
            ]
          },
          "metadata": {},
          "execution_count": 17
        }
      ]
    },
    {
      "cell_type": "code",
      "source": [
        "# Instruções para correção de dados ausentes:\n",
        "# 1. Para dados de estados utilize a estratégia de exclusão dos dados.\n",
        "# 2. Para os dados de clientes utilize:\n",
        "# a. Mediana arredondada para duas casas decimais para as variáveis do tipo numéricas.\n",
        "# b. Moda para as variáveis categóricas.\n",
        "# Tratamento dos dados faltantes\n",
        "df_completo.isnull().sum()"
      ],
      "metadata": {
        "colab": {
          "base_uri": "https://localhost:8080/"
        },
        "id": "zyMm31jbGJZS",
        "outputId": "7f65b1df-58f7-4576-b86d-9f4890fa4488"
      },
      "execution_count": 18,
      "outputs": [
        {
          "output_type": "execute_result",
          "data": {
            "text/plain": [
              "id_cliente       0\n",
              "peso             5\n",
              "colesterol       0\n",
              "genero           0\n",
              "id_estado        0\n",
              "estado           0\n",
              "sigla_estado     0\n",
              "pais            45\n",
              "idade            0\n",
              "dtype: int64"
            ]
          },
          "metadata": {},
          "execution_count": 18
        }
      ]
    },
    {
      "cell_type": "code",
      "source": [
        "# Exibe os dados faltantes na coluna pais\n",
        "#df_completo[df_completo['pais'].isna()]"
      ],
      "metadata": {
        "id": "DtciZysXKgAR"
      },
      "execution_count": null,
      "outputs": []
    },
    {
      "cell_type": "code",
      "source": [
        "# Considerando que todos os estados são do Brasil, preenche os dados faltantes com 'Brasil'.\n",
        "df_completo['pais'] = df_completo['pais'].fillna('Brasil')"
      ],
      "metadata": {
        "id": "oztc9NZ7KqG7"
      },
      "execution_count": 20,
      "outputs": []
    },
    {
      "cell_type": "code",
      "source": [
        "# Exibe os dados faltantes na coluna peso\n",
        "#df_completo[df_completo['peso'].isna()]"
      ],
      "metadata": {
        "id": "sL-FvaNtK19M"
      },
      "execution_count": null,
      "outputs": []
    },
    {
      "cell_type": "code",
      "source": [
        "# Calcula a mediana e imputa os dados faltantes\n",
        "median = df_completo['peso'].median().round(2)\n",
        "df_completo['peso'].fillna(median, inplace=True)"
      ],
      "metadata": {
        "id": "xaCb6z7IK7En"
      },
      "execution_count": 22,
      "outputs": []
    },
    {
      "cell_type": "code",
      "source": [
        "# 3. Avaliar a correlação entre as variáveis.\n",
        "df_completo[['peso', 'idade', 'colesterol']].corr()"
      ],
      "metadata": {
        "colab": {
          "base_uri": "https://localhost:8080/",
          "height": 143
        },
        "id": "cu9zsI5nLMvf",
        "outputId": "ea080419-bb33-439a-da35-93abb81eb141"
      },
      "execution_count": 23,
      "outputs": [
        {
          "output_type": "execute_result",
          "data": {
            "text/plain": [
              "                peso     idade  colesterol\n",
              "peso        1.000000 -0.011859    0.984517\n",
              "idade      -0.011859  1.000000   -0.015716\n",
              "colesterol  0.984517 -0.015716    1.000000"
            ],
            "text/html": [
              "\n",
              "\n",
              "  <div id=\"df-cea6f325-5547-4f5a-b800-a58952e719e3\">\n",
              "    <div class=\"colab-df-container\">\n",
              "      <div>\n",
              "<style scoped>\n",
              "    .dataframe tbody tr th:only-of-type {\n",
              "        vertical-align: middle;\n",
              "    }\n",
              "\n",
              "    .dataframe tbody tr th {\n",
              "        vertical-align: top;\n",
              "    }\n",
              "\n",
              "    .dataframe thead th {\n",
              "        text-align: right;\n",
              "    }\n",
              "</style>\n",
              "<table border=\"1\" class=\"dataframe\">\n",
              "  <thead>\n",
              "    <tr style=\"text-align: right;\">\n",
              "      <th></th>\n",
              "      <th>peso</th>\n",
              "      <th>idade</th>\n",
              "      <th>colesterol</th>\n",
              "    </tr>\n",
              "  </thead>\n",
              "  <tbody>\n",
              "    <tr>\n",
              "      <th>peso</th>\n",
              "      <td>1.000000</td>\n",
              "      <td>-0.011859</td>\n",
              "      <td>0.984517</td>\n",
              "    </tr>\n",
              "    <tr>\n",
              "      <th>idade</th>\n",
              "      <td>-0.011859</td>\n",
              "      <td>1.000000</td>\n",
              "      <td>-0.015716</td>\n",
              "    </tr>\n",
              "    <tr>\n",
              "      <th>colesterol</th>\n",
              "      <td>0.984517</td>\n",
              "      <td>-0.015716</td>\n",
              "      <td>1.000000</td>\n",
              "    </tr>\n",
              "  </tbody>\n",
              "</table>\n",
              "</div>\n",
              "      <button class=\"colab-df-convert\" onclick=\"convertToInteractive('df-cea6f325-5547-4f5a-b800-a58952e719e3')\"\n",
              "              title=\"Convert this dataframe to an interactive table.\"\n",
              "              style=\"display:none;\">\n",
              "\n",
              "  <svg xmlns=\"http://www.w3.org/2000/svg\" height=\"24px\"viewBox=\"0 0 24 24\"\n",
              "       width=\"24px\">\n",
              "    <path d=\"M0 0h24v24H0V0z\" fill=\"none\"/>\n",
              "    <path d=\"M18.56 5.44l.94 2.06.94-2.06 2.06-.94-2.06-.94-.94-2.06-.94 2.06-2.06.94zm-11 1L8.5 8.5l.94-2.06 2.06-.94-2.06-.94L8.5 2.5l-.94 2.06-2.06.94zm10 10l.94 2.06.94-2.06 2.06-.94-2.06-.94-.94-2.06-.94 2.06-2.06.94z\"/><path d=\"M17.41 7.96l-1.37-1.37c-.4-.4-.92-.59-1.43-.59-.52 0-1.04.2-1.43.59L10.3 9.45l-7.72 7.72c-.78.78-.78 2.05 0 2.83L4 21.41c.39.39.9.59 1.41.59.51 0 1.02-.2 1.41-.59l7.78-7.78 2.81-2.81c.8-.78.8-2.07 0-2.86zM5.41 20L4 18.59l7.72-7.72 1.47 1.35L5.41 20z\"/>\n",
              "  </svg>\n",
              "      </button>\n",
              "\n",
              "\n",
              "\n",
              "    <div id=\"df-4f742b94-2b14-4ae4-8c37-849c6e21499a\">\n",
              "      <button class=\"colab-df-quickchart\" onclick=\"quickchart('df-4f742b94-2b14-4ae4-8c37-849c6e21499a')\"\n",
              "              title=\"Suggest charts.\"\n",
              "              style=\"display:none;\">\n",
              "\n",
              "<svg xmlns=\"http://www.w3.org/2000/svg\" height=\"24px\"viewBox=\"0 0 24 24\"\n",
              "     width=\"24px\">\n",
              "    <g>\n",
              "        <path d=\"M19 3H5c-1.1 0-2 .9-2 2v14c0 1.1.9 2 2 2h14c1.1 0 2-.9 2-2V5c0-1.1-.9-2-2-2zM9 17H7v-7h2v7zm4 0h-2V7h2v10zm4 0h-2v-4h2v4z\"/>\n",
              "    </g>\n",
              "</svg>\n",
              "      </button>\n",
              "    </div>\n",
              "\n",
              "<style>\n",
              "  .colab-df-quickchart {\n",
              "    background-color: #E8F0FE;\n",
              "    border: none;\n",
              "    border-radius: 50%;\n",
              "    cursor: pointer;\n",
              "    display: none;\n",
              "    fill: #1967D2;\n",
              "    height: 32px;\n",
              "    padding: 0 0 0 0;\n",
              "    width: 32px;\n",
              "  }\n",
              "\n",
              "  .colab-df-quickchart:hover {\n",
              "    background-color: #E2EBFA;\n",
              "    box-shadow: 0px 1px 2px rgba(60, 64, 67, 0.3), 0px 1px 3px 1px rgba(60, 64, 67, 0.15);\n",
              "    fill: #174EA6;\n",
              "  }\n",
              "\n",
              "  [theme=dark] .colab-df-quickchart {\n",
              "    background-color: #3B4455;\n",
              "    fill: #D2E3FC;\n",
              "  }\n",
              "\n",
              "  [theme=dark] .colab-df-quickchart:hover {\n",
              "    background-color: #434B5C;\n",
              "    box-shadow: 0px 1px 3px 1px rgba(0, 0, 0, 0.15);\n",
              "    filter: drop-shadow(0px 1px 2px rgba(0, 0, 0, 0.3));\n",
              "    fill: #FFFFFF;\n",
              "  }\n",
              "</style>\n",
              "\n",
              "    <script>\n",
              "      async function quickchart(key) {\n",
              "        const containerElement = document.querySelector('#' + key);\n",
              "        const charts = await google.colab.kernel.invokeFunction(\n",
              "            'suggestCharts', [key], {});\n",
              "      }\n",
              "    </script>\n",
              "\n",
              "      <script>\n",
              "\n",
              "function displayQuickchartButton(domScope) {\n",
              "  let quickchartButtonEl =\n",
              "    domScope.querySelector('#df-4f742b94-2b14-4ae4-8c37-849c6e21499a button.colab-df-quickchart');\n",
              "  quickchartButtonEl.style.display =\n",
              "    google.colab.kernel.accessAllowed ? 'block' : 'none';\n",
              "}\n",
              "\n",
              "        displayQuickchartButton(document);\n",
              "      </script>\n",
              "      <style>\n",
              "    .colab-df-container {\n",
              "      display:flex;\n",
              "      flex-wrap:wrap;\n",
              "      gap: 12px;\n",
              "    }\n",
              "\n",
              "    .colab-df-convert {\n",
              "      background-color: #E8F0FE;\n",
              "      border: none;\n",
              "      border-radius: 50%;\n",
              "      cursor: pointer;\n",
              "      display: none;\n",
              "      fill: #1967D2;\n",
              "      height: 32px;\n",
              "      padding: 0 0 0 0;\n",
              "      width: 32px;\n",
              "    }\n",
              "\n",
              "    .colab-df-convert:hover {\n",
              "      background-color: #E2EBFA;\n",
              "      box-shadow: 0px 1px 2px rgba(60, 64, 67, 0.3), 0px 1px 3px 1px rgba(60, 64, 67, 0.15);\n",
              "      fill: #174EA6;\n",
              "    }\n",
              "\n",
              "    [theme=dark] .colab-df-convert {\n",
              "      background-color: #3B4455;\n",
              "      fill: #D2E3FC;\n",
              "    }\n",
              "\n",
              "    [theme=dark] .colab-df-convert:hover {\n",
              "      background-color: #434B5C;\n",
              "      box-shadow: 0px 1px 3px 1px rgba(0, 0, 0, 0.15);\n",
              "      filter: drop-shadow(0px 1px 2px rgba(0, 0, 0, 0.3));\n",
              "      fill: #FFFFFF;\n",
              "    }\n",
              "  </style>\n",
              "\n",
              "      <script>\n",
              "        const buttonEl =\n",
              "          document.querySelector('#df-cea6f325-5547-4f5a-b800-a58952e719e3 button.colab-df-convert');\n",
              "        buttonEl.style.display =\n",
              "          google.colab.kernel.accessAllowed ? 'block' : 'none';\n",
              "\n",
              "        async function convertToInteractive(key) {\n",
              "          const element = document.querySelector('#df-cea6f325-5547-4f5a-b800-a58952e719e3');\n",
              "          const dataTable =\n",
              "            await google.colab.kernel.invokeFunction('convertToInteractive',\n",
              "                                                     [key], {});\n",
              "          if (!dataTable) return;\n",
              "\n",
              "          const docLinkHtml = 'Like what you see? Visit the ' +\n",
              "            '<a target=\"_blank\" href=https://colab.research.google.com/notebooks/data_table.ipynb>data table notebook</a>'\n",
              "            + ' to learn more about interactive tables.';\n",
              "          element.innerHTML = '';\n",
              "          dataTable['output_type'] = 'display_data';\n",
              "          await google.colab.output.renderOutput(dataTable, element);\n",
              "          const docLink = document.createElement('div');\n",
              "          docLink.innerHTML = docLinkHtml;\n",
              "          element.appendChild(docLink);\n",
              "        }\n",
              "      </script>\n",
              "    </div>\n",
              "  </div>\n"
            ]
          },
          "metadata": {},
          "execution_count": 23
        }
      ]
    },
    {
      "cell_type": "code",
      "source": [
        "# 4. Criar algoritmo de k-means com as configurações:\n",
        "# a. random_state=0, init='k-means++'\n",
        "from sklearn.cluster import KMeans"
      ],
      "metadata": {
        "id": "7a1NkniOLNpc"
      },
      "execution_count": 24,
      "outputs": []
    },
    {
      "cell_type": "code",
      "source": [
        "# Utilize as variáveis de idade e colesterol.\n",
        "wcss = []\n",
        "n_clusters = range(1, 11)\n",
        "for n in n_clusters:\n",
        "    kmeans = KMeans(n_clusters=n, n_init=10, random_state=0, init='k-means++')\n",
        "    # kmeans.fit(df_completo[['peso', 'idade', 'colesterol']])\n",
        "    kmeans.fit(df_completo[['idade', 'colesterol']])\n",
        "    wcss.append(kmeans.inertia_)\n",
        "    print(f'Número de clusters: {n}\\tInércia: {kmeans.inertia_:.2f}')"
      ],
      "metadata": {
        "colab": {
          "base_uri": "https://localhost:8080/"
        },
        "id": "qXPsd-QYLnec",
        "outputId": "41f105ae-aa79-4c3c-a6ec-99826c1f6382"
      },
      "execution_count": 25,
      "outputs": [
        {
          "output_type": "stream",
          "name": "stdout",
          "text": [
            "Número de clusters: 1\tInércia: 962234.56\n",
            "Número de clusters: 2\tInércia: 328777.81\n",
            "Número de clusters: 3\tInércia: 209073.67\n",
            "Número de clusters: 4\tInércia: 171341.02\n",
            "Número de clusters: 5\tInércia: 140519.55\n",
            "Número de clusters: 6\tInércia: 113167.01\n",
            "Número de clusters: 7\tInércia: 92826.28\n",
            "Número de clusters: 8\tInércia: 77089.24\n",
            "Número de clusters: 9\tInércia: 66724.14\n",
            "Número de clusters: 10\tInércia: 58936.70\n"
          ]
        }
      ]
    },
    {
      "cell_type": "code",
      "source": [
        "# Plota curva do cotovelo\n",
        "import matplotlib.pyplot as plt\n",
        "plt.plot(n_clusters, wcss);\n",
        "plt.axis([1, 10, 0, 1.5e6])\n",
        "plt.xlabel('Número de clusters')\n",
        "plt.ylabel('WCSS')"
      ],
      "metadata": {
        "colab": {
          "base_uri": "https://localhost:8080/",
          "height": 482
        },
        "id": "dkBuM0NOMVY3",
        "outputId": "da977092-6697-49a7-fdf1-0133b852b9e9"
      },
      "execution_count": 26,
      "outputs": [
        {
          "output_type": "execute_result",
          "data": {
            "text/plain": [
              "Text(0, 0.5, 'WCSS')"
            ]
          },
          "metadata": {},
          "execution_count": 26
        },
        {
          "output_type": "display_data",
          "data": {
            "text/plain": [
              "<Figure size 640x480 with 1 Axes>"
            ],
            "image/png": "[encoded data removed]"
          },
          "metadata": {}
        }
      ]
    },
    {
      "cell_type": "code",
      "source": [
        "# Pergunta 1)\n",
        "# Analisando a base de clientes no momento da coleta dos dados, sem nenhum tratamento,\n",
        "# qual é a média da variável colesterol?\n",
        "print(f'Média do colesterol: {df_completo[\"colesterol\"].mean():.2f}')\n"
      ],
      "metadata": {
        "colab": {
          "base_uri": "https://localhost:8080/"
        },
        "id": "uZnVxCTZM3tb",
        "outputId": "8d5b0a96-60c3-4fa0-bcde-d6c36cd819ec"
      },
      "execution_count": 27,
      "outputs": [
        {
          "output_type": "stream",
          "name": "stdout",
          "text": [
            "Média do colesterol: 170.43\n"
          ]
        }
      ]
    },
    {
      "cell_type": "code",
      "source": [
        "# Pergunta 2)\n",
        "# Crie um histograma baseado na idade dos clientes e escolha alternativa que melhor\n",
        "# a representa. Utilize 20 barras na visualização ** bins=20\n",
        "df_completo['idade'].hist(bins=20, edgecolor='black');"
      ],
      "metadata": {
        "colab": {
          "base_uri": "https://localhost:8080/",
          "height": 430
        },
        "id": "N5nJoIT3OMe8",
        "outputId": "5125d6b1-1ef7-4bb2-87aa-328b79c02c9c"
      },
      "execution_count": 28,
      "outputs": [
        {
          "output_type": "display_data",
          "data": {
            "text/plain": [
              "<Figure size 640x480 with 1 Axes>"
            ],
            "image/png": "[encoded data removed]"
          },
          "metadata": {}
        }
      ]
    },
    {
      "cell_type": "code",
      "source": [
        "# Pergunta 3)\n",
        "# Qual comando abaixo realiza a correção de dados ausentes e aplica a alteração no\n",
        "# mesmo dataset?\n",
        "# df.altura.fillna(round(media,2), inplace=True)"
      ],
      "metadata": {
        "id": "2uEkcw7VQoNI"
      },
      "execution_count": null,
      "outputs": []
    },
    {
      "cell_type": "code",
      "source": [
        "# Pergunta 4)\n",
        "# Crie o gráfico de WCSS para um conjunto de 10 clusters e, após análise dos dados no\n",
        "# gráfico, responda: qual é o valor de WCSS para cluster de número 6?\n",
        "# Considere apenas os 3 primeiros dígitos apresentados no gráfico.\n",
        "n = 6\n",
        "print(f'Número de clusters: {n}\\tInércia: {str(wcss[n-1])[:3]}')"
      ],
      "metadata": {
        "colab": {
          "base_uri": "https://localhost:8080/"
        },
        "id": "LXcK3OE0RFiF",
        "outputId": "9be4922f-6e14-4cae-e763-546a63016eb0"
      },
      "execution_count": 29,
      "outputs": [
        {
          "output_type": "stream",
          "name": "stdout",
          "text": [
            "Número de clusters: 6\tInércia: 113\n"
          ]
        }
      ]
    },
    {
      "cell_type": "code",
      "source": [
        "# Pergunta 5\n",
        "# Crie uma representação gráfica da formação do cluster. Após isso, escolha a imagem\n",
        "# correta para esse agrupamento. Considere no eixo x o peso dos clientes e no eixo y\n",
        "# o colesterol.\n",
        "# Crie o modelo KMeans com o número ideal de clusters\n",
        "kmeans = KMeans(n_clusters=3, n_init=10, random_state=0, init='k-means++')\n",
        "y_kmeans = kmeans.fit_predict(df_completo[['idade', 'colesterol']])\n",
        "centers = kmeans.cluster_centers_"
      ],
      "metadata": {
        "id": "FNUOGpZ3UMVu"
      },
      "execution_count": 30,
      "outputs": []
    },
    {
      "cell_type": "code",
      "source": [
        "# Crie o gráfico\n",
        "plt.figure(figsize=(10, 7))\n",
        "plt.scatter(df_completo['peso'], df_completo['colesterol'], c=y_kmeans, cmap='viridis')"
      ],
      "metadata": {
        "colab": {
          "base_uri": "https://localhost:8080/",
          "height": 616
        },
        "id": "XC14CyDPOwHJ",
        "outputId": "c9f32be1-0476-4fe4-fe35-d30e18b48828"
      },
      "execution_count": 31,
      "outputs": [
        {
          "output_type": "execute_result",
          "data": {
            "text/plain": [
              "<matplotlib.collections.PathCollection at 0x7e0337cc9330>"
            ]
          },
          "metadata": {},
          "execution_count": 31
        },
        {
          "output_type": "display_data",
          "data": {
            "text/plain": [
              "<Figure size 1000x700 with 1 Axes>"
            ],
            "image/png": "[encoded data removed]"
          },
          "metadata": {}
        }
      ]
    },
    {
      "cell_type": "code",
      "source": [
        "# Desenhe os centros dos clusters\n",
        "#plt.scatter(centers[:, 0], centers[:, 1], c='red', s=300, alpha=0.5)\n",
        "#plt.xlabel('Peso')\n",
        "#plt.ylabel('Colesterol')\n",
        "#plt.show()"
      ],
      "metadata": {
        "colab": {
          "base_uri": "https://localhost:8080/",
          "height": 449
        },
        "id": "7TO5Z-xWZJFJ",
        "outputId": "5f222c23-f9c5-481c-b11b-ca3ac0727f51"
      },
      "execution_count": 33,
      "outputs": [
        {
          "output_type": "display_data",
          "data": {
            "text/plain": [
              "<Figure size 640x480 with 1 Axes>"
            ],
            "image/png": "[encoded data removed]"
          },
          "metadata": {}
        }
      ]
    },
    {
      "cell_type": "code",
      "source": [
        "# Pergunta 6)\n",
        "# Após aplicar o algoritmo de agrupamento, gere uma estatística com a função describe da\n",
        "# variável peso, agrupando os resultados por cluster, e responda a alternativa CORRETA.\n",
        "df_completo['id_risco'] = y_kmeans\n",
        "df_completo['risco'] = df_completo['id_risco'].map({0: 'alto', 1: 'baixo', 2: 'moderado'})\n"
      ],
      "metadata": {
        "id": "Mu5t69dMZm9H"
      },
      "execution_count": 34,
      "outputs": []
    },
    {
      "cell_type": "code",
      "source": [
        "# Gere estatísticas descritivas agrupadas por cluster\n",
        "stats = df_completo.groupby('risco')['peso'].describe()\n",
        "print(stats)"
      ],
      "metadata": {
        "colab": {
          "base_uri": "https://localhost:8080/"
        },
        "id": "Pgx2-wmgZx3F",
        "outputId": "156876a0-11b7-4965-a38b-19ff33ce33e9"
      },
      "execution_count": 35,
      "outputs": [
        {
          "output_type": "stream",
          "name": "stdout",
          "text": [
            "          count        mean        std    min     25%    50%    75%    max\n",
            "risco                                                                     \n",
            "alto      190.0  179.142105  13.789261  140.0  170.25  180.5  189.0  203.0\n",
            "baixo     182.0  109.873626   7.975132   95.0  103.00  110.0  116.0  140.0\n",
            "moderado  175.0  139.491429   9.908703  123.0  131.00  140.0  149.0  158.0\n"
          ]
        }
      ]
    },
    {
      "cell_type": "code",
      "source": [
        "# Pergunta 7)\n",
        "# Gera um diagrama de boxplot filtrando todos os gêneros feminino da base criada e assinale a\n",
        "# alternativa que apresenta o resultado das variáveis idade e nome do cluster.\n",
        "df_completo[df_completo['genero'] == 'Feminino'].boxplot(by='risco', column=['idade'], grid=False);"
      ],
      "metadata": {
        "colab": {
          "base_uri": "https://localhost:8080/",
          "height": 478
        },
        "id": "cWCZH9CQaYo8",
        "outputId": "feec88b5-d563-4c3c-a2bc-aa4f9407c9dd"
      },
      "execution_count": 36,
      "outputs": [
        {
          "output_type": "display_data",
          "data": {
            "text/plain": [
              "<Figure size 640x480 with 1 Axes>"
            ],
            "image/png": "[encoded data removed]"
          },
          "metadata": {}
        }
      ]
    },
    {
      "cell_type": "code",
      "source": [
        "# Pergunta 8)\n",
        "# Qual a quantidade de pessoas do gênero feminino presentes no cluster de risco baixo?\n",
        "n_fem_baixo_risco = len(df_completo.query('genero == \"Feminino\" & risco == \"baixo\"'))\n",
        "print(f'Quantidade de pessoas do gênero feminino presentes no cluster de risco baixo: {n_fem_baixo_risco}')"
      ],
      "metadata": {
        "colab": {
          "base_uri": "https://localhost:8080/"
        },
        "id": "MTkaW5kabJ_e",
        "outputId": "99f55b98-49f6-47ac-ad56-80f5368d7159"
      },
      "execution_count": 37,
      "outputs": [
        {
          "output_type": "stream",
          "name": "stdout",
          "text": [
            "Quantidade de pessoas do gênero feminino presentes no cluster de risco baixo: 80\n"
          ]
        }
      ]
    },
    {
      "cell_type": "code",
      "source": [
        "# Pergunta 9)\n",
        "# Qual estado possui maior número de pessoas no grupo de risco moderado?\n",
        "df_completo[df_completo['risco'] == 'moderado']['estado'].value_counts()"
      ],
      "metadata": {
        "colab": {
          "base_uri": "https://localhost:8080/"
        },
        "id": "4Kfi8hP5bajr",
        "outputId": "8e081a41-8436-47ef-b1b8-df8401719f21"
      },
      "execution_count": 38,
      "outputs": [
        {
          "output_type": "execute_result",
          "data": {
            "text/plain": [
              "Mato Grosso do Sul     12\n",
              "Goiás                  11\n",
              "Roraima                10\n",
              "Minas Gerais           10\n",
              "Espírito Santo          9\n",
              "Rondônia                8\n",
              "Rio Grande do Sul       8\n",
              "Ceará                   8\n",
              "Santa Catarina          8\n",
              "Piauí                   7\n",
              "Sergipe                 7\n",
              "Bahia                   7\n",
              "Pernambuco              7\n",
              "Pará                    6\n",
              "Alagoas                 6\n",
              "Maranhão                6\n",
              "Rio Grande do Norte     5\n",
              "Paraná                  5\n",
              "Acre                    5\n",
              "Tocantins               5\n",
              "Amapá                   4\n",
              "Rio de Janeiro          4\n",
              "São Paulo               4\n",
              "Amazonas                4\n",
              "Distrito Federal        3\n",
              "Mato Grosso             3\n",
              "Paraíba                 3\n",
              "Name: estado, dtype: int64"
            ]
          },
          "metadata": {},
          "execution_count": 38
        }
      ]
    },
    {
      "cell_type": "code",
      "source": [
        "# Pergunta 10)\n",
        "# Qual é o terceiro estado que possui a maior média de colesterol?\n",
        "df_completo.groupby('estado')['colesterol'].mean().sort_values(ascending=False).round(2)"
      ],
      "metadata": {
        "colab": {
          "base_uri": "https://localhost:8080/"
        },
        "id": "sYYrG4hIbun6",
        "outputId": "b55ab1cf-c810-4049-d106-189ba1e6c023"
      },
      "execution_count": 39,
      "outputs": [
        {
          "output_type": "execute_result",
          "data": {
            "text/plain": [
              "estado\n",
              "Mato Grosso            186.33\n",
              "Rio Grande do Sul      185.38\n",
              "Pernambuco             180.18\n",
              "Espírito Santo         179.11\n",
              "Pará                   178.95\n",
              "São Paulo              176.67\n",
              "Distrito Federal       175.95\n",
              "Alagoas                174.67\n",
              "Tocantins              174.26\n",
              "Santa Catarina         172.73\n",
              "Ceará                  171.40\n",
              "Rondônia               170.90\n",
              "Sergipe                170.47\n",
              "Paraíba                169.88\n",
              "Amapá                  169.76\n",
              "Minas Gerais           168.52\n",
              "Mato Grosso do Sul     167.82\n",
              "Piauí                  166.17\n",
              "Paraná                 165.89\n",
              "Rio de Janeiro         165.30\n",
              "Maranhão               164.95\n",
              "Amazonas               164.88\n",
              "Roraima                164.78\n",
              "Bahia                  164.44\n",
              "Rio Grande do Norte    163.21\n",
              "Acre                   162.50\n",
              "Goiás                  154.09\n",
              "Name: colesterol, dtype: float64"
            ]
          },
          "metadata": {},
          "execution_count": 39
        }
      ]
    },
    {
      "cell_type": "code",
      "source": [
        "# Pergunta 11)\n",
        "# Filtre o dataframe para todas as pessoas do gênero feminino que estão no cluster de baixo\n",
        "# risco e em seguida crie um histograma com a variável peso para esse conjunto de dados.\n",
        "# Utilize 15 barras na representação do gráfico\n",
        "df_completo.query('genero == \"Feminino\" & risco == \"baixo\"')['peso'].hist(bins=15, edgecolor='black');"
      ],
      "metadata": {
        "colab": {
          "base_uri": "https://localhost:8080/",
          "height": 430
        },
        "id": "rLw_rLVMcEdu",
        "outputId": "d55b6ee4-b7b7-4819-d573-7166dcc1e0a7"
      },
      "execution_count": 40,
      "outputs": [
        {
          "output_type": "display_data",
          "data": {
            "text/plain": [
              "<Figure size 640x480 with 1 Axes>"
            ],
            "image/png": "[encoded data removed]"
          },
          "metadata": {}
        }
      ]
    },
    {
      "cell_type": "code",
      "source": [
        "# Pergunta 12)\n",
        "# São exemplos de aprendizado supervisionado:\n",
        "# R: Regressão e Classificação."
      ],
      "metadata": {
        "id": "2Um7WLIucUVV"
      },
      "execution_count": null,
      "outputs": []
    },
    {
      "cell_type": "code",
      "source": [
        "# Pergunta 13)\n",
        "# Assinale a alternativa CORRETA:\n",
        "# R: A clusterização k-means é uma técnica poderosa e eficiente para segmentar dados e identificar\n",
        "# padrões relevantes em conjuntos de informações complexas.\n"
      ],
      "metadata": {
        "id": "p-57KPYdciTY"
      },
      "execution_count": null,
      "outputs": []
    },
    {
      "cell_type": "code",
      "source": [
        "# Pergunta 14)\n",
        "# Os algoritmos de aprendizado não supervisionado podem ser divididos em duas classes: Associação e\n",
        "# Clusterização, que se definem respectivamente como:\n",
        "# R: Os algoritmos de associação permitem o descobrimento de regras e correlação em uma base de dados,\n",
        "# identificando conjuntos de itens que ocorrem juntos dentro de uma determinada frequência e os algoritmos\n",
        "# de clusterização ou agrupamento permitem que seja feito agrupamento de grupos com base nas semelhanças\n",
        "# encontradas."
      ],
      "metadata": {
        "id": "3iNvBjh7ct_G"
      },
      "execution_count": null,
      "outputs": []
    },
    {
      "cell_type": "code",
      "source": [
        "# Pergunta 15\n",
        "# Sobre a MAE, indique a opção que contém sua equação.\n",
        "# R: MAE = (1/n) * Σ|y_i - ŷ_i|"
      ],
      "metadata": {
        "id": "RTM6lBXzc__r"
      },
      "execution_count": null,
      "outputs": []
    }
  ]
}